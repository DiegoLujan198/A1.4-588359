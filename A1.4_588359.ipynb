{
  "metadata": {
    "kernelspec": {
      "name": "python",
      "display_name": "Python (Pyodide)",
      "language": "python"
    },
    "language_info": {
      "codemirror_mode": {
        "name": "python",
        "version": 3
      },
      "file_extension": ".py",
      "mimetype": "text/x-python",
      "name": "python",
      "nbconvert_exporter": "python",
      "pygments_lexer": "ipython3",
      "version": "3.8"
    }
  },
  "nbformat_minor": 5,
  "nbformat": 4,
  "cells": [
    {
      "id": "91572db1-a4df-4872-88fa-6f8b621d1e07",
      "cell_type": "markdown",
      "source": "A1.4_588359\n\nDIEGO MARCELO GONZALEZ LUJAN IMT 588359\n\n1. En esta parte del codigo imprimi las primeras 5 filas de los datos de \"Vino Tinto\" y con esas 5 filas imprimi el dataframe para saber las dimensiones. ",
      "metadata": {}
    },
    {
      "id": "64ae16ba-fba0-4ad8-aa0e-e39f82ac3323",
      "cell_type": "code",
      "source": "#importar la libreria en pandas( pandas ayuda en facilitar el analisis y la manipulacion de datos de tablas y de estructuras) \nimport pandas as pd \n\n#cargar el archivo csv a un dataframe el pd.read es una biblioteca de Pandas que se utiliza para leer datos de diferentes archivos y luego los convierte en data frames de pandas. \ndf = pd.read_csv('Vino_Tinto.csv')\n\nprint(\"Dimensiones del dataframe: \", df.shape)\n\n#aqui va a imprimir las primeras 5 filas de la informacion\nprint(df.head(5))",
      "metadata": {
        "trusted": true
      },
      "outputs": [
        {
          "name": "stdout",
          "output_type": "stream",
          "text": "Dimensiones del dataframe:  (1599, 12)\n   acidezFija  acidezVolatil  acidoCitrico  azucarResidual  cloruros  \\\n0         7.4           0.70          0.00             1.9     0.076   \n1         7.8           0.88          0.00             2.6     0.098   \n2         7.8           0.76          0.04             2.3     0.092   \n3        11.2           0.28          0.56             1.9     0.075   \n4         7.4           0.70          0.00             1.9     0.076   \n\n   dioxidoAzufreLibre  dioxidoAzufreTotal  densidad    pH  sulfatos  alcohol  \\\n0                11.0                34.0    0.9978  3.51      0.56      9.4   \n1                25.0                67.0    0.9968  3.20      0.68      9.8   \n2                15.0                54.0    0.9970  3.26      0.65      9.8   \n3                17.0                60.0    0.9980  3.16      0.58      9.8   \n4                11.0                34.0    0.9978  3.51      0.56      9.4   \n\n   calidad  \n0        5  \n1        5  \n2        5  \n3        6  \n4        5  \n"
        }
      ],
      "execution_count": 6
    },
    {
      "id": "d4bbd72b-ec1e-486b-ad7d-9bbbc240a2fa",
      "cell_type": "markdown",
      "source": "2. En este codigo utilice la funcion train_test_split de la libreria sklearn.model_selection para dividir datos en dos subconjuntos: uno para entrenamiento y otro para pruebas\nTrain_df.shape: Esta funcion imprime las dimensiones de conjuntos de entrenamiento. El numero de filas es de 80% del total de las observaciones de df y el numero de columnas sera el mismo que el conjunto original.\n\nTest_df.shape: En esta funcion imprime las dimensiones del conjunto de preuba, el numero de filas que tenia que seleccionar es el 20%.\n\nrandom_state: Este codigo me ayuda a asegurar a que la division sea reproducible, en otras palabras ayuda aejecutar el codigo muchas veces y obtiene la misma division de datos ( el numero que le puse al codigo no importa, se puede poner cualquier numero y aun asi va a dar la misma respuesta)\n\ntrain_df.shape[0] + test_df.shape[0] = Este codigo ayuda a sumar el total de filas de ambos subconjuntos. Esta suma coincide con el numero de filas del conjunto original, esto garantiza que no se perdio ningunan observacion en la division.",
      "metadata": {}
    },
    {
      "id": "cb72b85a-3068-409f-95ad-4556eb71bd8c",
      "cell_type": "code",
      "source": "from sklearn.model_selection import train_test_split\n\ntrain_df, test_df = train_test_split(df,test_size = 0.2, random_state = 21)\n\n#imprime dimensiones de cada conjunto\nprint(\"dimensiones del conjunto de entrenamiento: \", train_df.shape)\nprint(\"dimensiones del conjunto de prueba: \", test_df.shape)\n\n#verificar que la suma de las filas es igual al total del dataset original\ntotal_rows = train_df.shape[0] + test_df.shape[0]\nprint(\"Suma total del observacion: \", total_rows)\nprint(\"Dimensione soriginales del dataset: \", df.shape)\n\nprint(train_df.head())",
      "metadata": {
        "trusted": true
      },
      "outputs": [
        {
          "name": "stdout",
          "output_type": "stream",
          "text": "dimensiones del conjunto de entrenamiento:  (1279, 12)\ndimensiones del conjunto de prueba:  (320, 12)\nSuma total del observacion:  1599\nDimensione soriginales del dataset:  (1599, 12)\n     acidezFija  acidezVolatil  acidoCitrico  azucarResidual  cloruros  \\\n751         8.3          0.650          0.10             2.9     0.089   \n370         6.9          0.765          0.02             2.3     0.063   \n374        14.0          0.410          0.63             3.8     0.089   \n537         8.1          0.825          0.24             2.1     0.084   \n708         7.8          0.545          0.12             2.5     0.068   \n\n     dioxidoAzufreLibre  dioxidoAzufreTotal  densidad    pH  sulfatos  \\\n751                17.0                40.0   0.99803  3.29      0.55   \n370                35.0                63.0   0.99750  3.57      0.78   \n374                 6.0                47.0   1.00140  3.01      0.81   \n537                 5.0                13.0   0.99720  3.37      0.77   \n708                11.0                35.0   0.99600  3.34      0.61   \n\n     alcohol  calidad  \n751      9.5        5  \n370      9.9        5  \n374     10.8        6  \n537     10.7        6  \n708     11.6        6  \n"
        }
      ],
      "execution_count": 7
    },
    {
      "id": "ad8975a4-082d-489e-8f02-59ea59ff53fd",
      "cell_type": "markdown",
      "source": "3. En este codigo toma un conjunto de datos, separa la variable calidad, divide los datos en entrenamiento y prueba y luego aplique un proceso de seleccion de caracteristicas hacia adelante utilizando un modelo de regreso lineal. El punto de este codigo es saber si las 5 variables mas relevantes para predecir la calidad del vino. Al final se muestra tanto los indices como los nombres de estas variables ",
      "metadata": {}
    },
    {
      "id": "b81a3e96-e11c-4ea3-8998-3f4439ae7b6e",
      "cell_type": "code",
      "source": "\n\nfrom sklearn.model_selection import train_test_split\nimport pandas as pd \nfrom sklearn.linear_model import LinearRegression\nfrom sklearn.feature_selection import SequentialFeatureSelector\n\n\nX = df.drop('calidad', axis = 1)\nY = df['calidad'] \n\ntrain_X, test_X, train_Y, test_Y = train_test_split(X, Y, test_size=0.2, random_state=21)\n\nprint(train_X.shape, train_Y.shape)\nprint(test_X.shape, test_Y.shape) \n\nlr = LinearRegression()\n\nsfs = SequentialFeatureSelector(estimator=lr,n_features_to_select = 5,direction='forward',scoring='r2',cv=10)\nsfs = sfs.fit(train_X, train_Y)\n\nselected_features = train_X.columns[sfs.get_support()]\n\nprint(\"Indices de las caracteristicas seleccionadas:\", [i for i, x in enumerate(sfs.get_support()) if x])\nprint(\"Nombres de las caracteristicas seleccionadas:\", list(selected_features))\n\n",
      "metadata": {
        "trusted": true
      },
      "outputs": [
        {
          "name": "stdout",
          "output_type": "stream",
          "text": "(1279, 11) (1279,)\n(320, 11) (320,)\nIndices de las caracteristicas seleccionadas: [1, 4, 6, 9, 10]\nNombres de las caracteristicas seleccionadas: ['acidezVolatil', 'cloruros', 'dioxidoAzufreTotal', 'sulfatos', 'alcohol']\n"
        }
      ],
      "execution_count": 9
    },
    {
      "id": "33aa32dd-080e-47d5-b555-235b1ec18739",
      "cell_type": "markdown",
      "source": "4. En este codigo empieza seleccionando las columnas mas relevantes de los conjuntos de datos de entrenamiento y prueba usando las variables que se identiciaron como las mas importantes durante la seleccion de caracteristicas.\n\nsklearn.metrics: Es un modelo de la biblioteca scikit-learn que proporciona funciones para evaluar el rendimiento de modelos de machine learning. \n\nr2_score: la funcion que use r2_scroe de la biblioteca sklearn.metrics. Esta funcion se usa para evaluar el rendimiento de un modelo de regresion, calcula el coeficiente de determinacion R^2, esto ayuda a medir que tan bien se ajustan las predicciones del modelo a los datos reales. ",
      "metadata": {}
    },
    {
      "id": "cf51adec-90c2-447c-974a-a424c7a29890",
      "cell_type": "code",
      "source": "from sklearn.metrics import r2_score\n\ntrain_X_selected = train_X[selected_features]\ntest_X_selected = test_X[selected_features] \n\nlr = LinearRegression()\n\nlr.fit(train_X_selected, train_Y)\n\npredicciones = lr.predict(test_X_selected)\n\nr2 = r2_score(test_Y, predicciones)\n\nprint(f\"Valor de R cuadrada : {r2:.4f}\")",
      "metadata": {
        "trusted": true
      },
      "outputs": [
        {
          "name": "stdout",
          "output_type": "stream",
          "text": "Valor de R cuadrada : 0.3570\n"
        }
      ],
      "execution_count": 10
    },
    {
      "id": "e0c385a0-6b4d-4d95-b60d-a543c43fefa7",
      "cell_type": "markdown",
      "source": "5. En este codigo realice una seleccion hacia atras de las caracteristicas del conjunto de entrenamiento. Comienza con todas las caracteristicas y elimina las que menos aportan al modelo. Al final se seleccionan 5 caracteristicas que son las mas importantes para el modelo de regresio lineal. ",
      "metadata": {}
    },
    {
      "id": "fc60d860-e2b8-427f-919b-6da5905d5b52",
      "cell_type": "code",
      "source": "\n\nfrom sklearn.model_selection import train_test_split\nimport pandas as pd \nfrom sklearn.linear_model import LinearRegression\nfrom sklearn.feature_selection import SequentialFeatureSelector\n\n\nX = df.drop('calidad', axis = 1)\nY = df['calidad'] \n\ntrain_X, test_X, train_Y, test_Y = train_test_split(X, Y, test_size=0.2, random_state=21)\n\nprint(train_X.shape, train_Y.shape)\nprint(test_X.shape, test_Y.shape) \n\nlr = LinearRegression()\n\nsfs_backward = SequentialFeatureSelector(estimator=lr,n_features_to_select = 5,direction='backward',scoring='r2',cv=10)\nsfs_backward = sfs_backward.fit(train_X, train_Y)\n\nselected_features_backward = train_X.columns[sfs.get_support()]\n\nprint(\"Indices de las caracteristicas seleccionadas (hacia atras):\", [i for i, x in enumerate(sfs_backward.get_support()) if x])\nprint(\"Nombres de las caracteristicas seleccionadas (hacia atras):\", list(selected_features_backward))\n\n",
      "metadata": {
        "trusted": true
      },
      "outputs": [
        {
          "name": "stdout",
          "output_type": "stream",
          "text": "(1279, 11) (1279,)\n(320, 11) (320,)\nIndices de las caracteristicas seleccionadas (hacia atras): [1, 4, 6, 9, 10]\nNombres de las caracteristicas seleccionadas (hacia atras): ['acidezVolatil', 'cloruros', 'dioxidoAzufreTotal', 'sulfatos', 'alcohol']\n"
        }
      ],
      "execution_count": 18
    },
    {
      "id": "a69c26f2-c1b1-4b74-8f39-1902ed1fc4ea",
      "cell_type": "markdown",
      "source": "6. En este codigo tengo dos modelos de regresion lienal: uno con todas las caracteristicas disponibles y otro con un subconjunto de caracteristicas seleccionadas mediante el metodo de seleccion hacia atras. Luego  compare el rendimiento de ambos utilizando la metrica de R cuadrada. Si el modelo con las caracteristicas seleccionadas tiene un valor de R cuadrada se considera que es el mejor ya que ofrece un mejor ajuste de datos. La comparacion permite determinar si la reduccion de la caracteristicas mejora o empeora el rendimiento del modelo \n",
      "metadata": {}
    },
    {
      "id": "4ea6c98b-e4b8-482f-9acb-2eea9b5aed27",
      "cell_type": "code",
      "source": "# Entrenamiento con todas las características\nlr.fit(train_X, train_Y)\npredicciones_all = lr.predict(test_X)\nr2_all = r2_score(test_Y, predicciones_all)\nprint(f\"\\nRcuadrada con todas las caracteristicas: {r2_all:.4f}\" ) \n\n\n# Entrenamiento con las características seleccionadas (hacia atrás)\n\ntrain_X_selected = train_X[selected_features_backward]\ntest_X_selected = test_X[selected_features_backward]\n\n\nlr.fit(train_X_selected, train_Y)\npredicciones_selected = lr.predict(test_X_selected)\nr2_selected = r2_score(test_Y, predicciones_selected)\nprint(f\"R cuadrada con las características seleccionadas: {r2_selected:.4f}\")\n\n#  Comparación\nif r2_selected > r2_all:\n    print(\"\\nEl modelo con las características seleccionadas es mejor, ya que tiene un mayor valor de R cuadrada.\")\nelse:\n    print(\"\\nEl modelo con todas las características es mejor, ya que tiene un mayor valor de R cuadrada.\")",
      "metadata": {
        "trusted": true
      },
      "outputs": [
        {
          "name": "stdout",
          "output_type": "stream",
          "text": "\nRcuadrada con todas las caracteristicas: 0.3685\nR cuadrada con las características seleccionadas: 0.3570\n\nEl modelo con todas las características es mejor, ya que tiene un mayor valor de R cuadrada.\n"
        }
      ],
      "execution_count": 21
    }
  ]
}